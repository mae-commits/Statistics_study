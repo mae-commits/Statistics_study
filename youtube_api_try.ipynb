{
 "cells": [
  {
   "cell_type": "markdown",
   "metadata": {},
   "source": [
    "## Analyze youtube with Youtube Data API"
   ]
  },
  {
   "cell_type": "markdown",
   "metadata": {},
   "source": [
    "### Create API key"
   ]
  },
  {
   "cell_type": "code",
   "execution_count": 28,
   "metadata": {},
   "outputs": [],
   "source": [
    "import pandas as pd\n",
    "from googleapiclient.discovery import build\n",
    "\n",
    "# Get channel data\n",
    "\n",
    "def youtube_channel_detail(channel_id):\n",
    "    api_service_name = 'youtube'\n",
    "    api_version = 'v3'\n",
    "    api_key = 'aaaaa'\n",
    "    \n",
    "    youtube = build(api_service_name, api_version, developerKey=api_key)\n",
    "    \n",
    "    search_response = youtube.channels().list(\n",
    "        part='snippet,statistics',\n",
    "        id=channel_id,\n",
    "    ).execute()\n",
    "    \n",
    "    return search_response['items'][0]"
   ]
  },
  {
   "cell_type": "code",
   "execution_count": 30,
   "metadata": {},
   "outputs": [
    {
     "name": "stdout",
     "output_type": "stream",
     "text": [
      "ミーアのゆっくり解説/実況 319000 671 257077207\n",
      "youtube#channel\n",
      "QWDQOJh34S5rclIhP87ya6Wg1kY\n",
      "{'title': 'ミーアのゆっくり解説 / 実況', 'description': 'ミーアのゆっくり解説と実況動画のチャンネルです。\\n\\nポケモンの実況と解説がメインとなっていますが確定ではありません。\\nよろしければゆっくりしていってね！\\nTwiter : @Miia_Yukkuri\\n\\n\\n', 'customUrl': '@miia_yukkuri', 'publishedAt': '2018-11-02T12:57:19Z', 'thumbnails': {'default': {'url': 'https://yt3.ggpht.com/_KVoq4YvgerqKbauOytSkeS9IVndMXHz2XObX1yxj1j3iyY2muKN1BVQ-Yg7fDYuvuQeaeop=s88-c-k-c0x00ffffff-no-rj', 'width': 88, 'height': 88}, 'medium': {'url': 'https://yt3.ggpht.com/_KVoq4YvgerqKbauOytSkeS9IVndMXHz2XObX1yxj1j3iyY2muKN1BVQ-Yg7fDYuvuQeaeop=s240-c-k-c0x00ffffff-no-rj', 'width': 240, 'height': 240}, 'high': {'url': 'https://yt3.ggpht.com/_KVoq4YvgerqKbauOytSkeS9IVndMXHz2XObX1yxj1j3iyY2muKN1BVQ-Yg7fDYuvuQeaeop=s800-c-k-c0x00ffffff-no-rj', 'width': 800, 'height': 800}}, 'localized': {'title': 'ミーアのゆっくり解説 / 実況', 'description': 'ミーアのゆっくり解説と実況動画のチャンネルです。\\n\\nポケモンの実況と解説がメインとなっていますが確定ではありません。\\nよろしければゆっくりしていってね！\\nTwiter : @Miia_Yukkuri\\n\\n\\n'}, 'country': 'JP'}\n"
     ]
    }
   ],
   "source": [
    "url = 'https://www.youtube.com/channel/UC5vBBmiRZjJZHq-gSLhMfRg'\n",
    "\n",
    "code = url.replace('https://www.youtube.com/channel/', '')\n",
    "\n",
    "d = youtube_channel_detail(code)\n",
    "# Extract the channel ID from url\n",
    "\n",
    "name = 'ミーアのゆっくり解説/実況'\n",
    "\n",
    "subscriber = int(d['statistics']['subscriberCount'])\n",
    "videoCount = int(d['statistics']['videoCount'])\n",
    "viewCount = int(d['statistics']['viewCount'])\n",
    "\n",
    "print(name, subscriber, videoCount, viewCount)\n",
    "\n",
    "print(d['kind'])\n",
    "print(d['etag'])\n",
    "print(d['snippet'])"
   ]
  },
  {
   "cell_type": "code",
   "execution_count": 26,
   "metadata": {},
   "outputs": [
    {
     "data": {
      "text/plain": [
       "{'kind': 'youtube#channelListResponse',\n",
       " 'etag': 'RuuXzTIr0OoDqI4S0RU6n4FqKEM',\n",
       " 'pageInfo': {'totalResults': 0, 'resultsPerPage': 5}}"
      ]
     },
     "execution_count": 26,
     "metadata": {},
     "output_type": "execute_result"
    }
   ],
   "source": [
    "url = 'https://www.youtube.com/watch?v=YCmkwZAFxeA'\n",
    "\n",
    "code = url.replace('https://www.youtube.com/', '')\n",
    "\n",
    "d = youtube_channel_detail(code)\n",
    "d"
   ]
  }
 ],
 "metadata": {
  "kernelspec": {
   "display_name": "Python 3",
   "language": "python",
   "name": "python3"
  },
  "language_info": {
   "codemirror_mode": {
    "name": "ipython",
    "version": 3
   },
   "file_extension": ".py",
   "mimetype": "text/x-python",
   "name": "python",
   "nbconvert_exporter": "python",
   "pygments_lexer": "ipython3",
   "version": "3.9.6"
  }
 },
 "nbformat": 4,
 "nbformat_minor": 2
}
